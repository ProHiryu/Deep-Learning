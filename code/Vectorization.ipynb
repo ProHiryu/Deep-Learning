{
 "cells": [
  {
   "cell_type": "code",
   "execution_count": 2,
   "metadata": {
    "collapsed": true,
    "deletable": true,
    "editable": true
   },
   "outputs": [],
   "source": [
    "import numpy as np\n",
    "import time"
   ]
  },
  {
   "cell_type": "code",
   "execution_count": 3,
   "metadata": {
    "collapsed": false
   },
   "outputs": [
    {
     "name": "stdout",
     "output_type": "stream",
     "text": [
      "250254.845524\n",
      "Vec:1.5759468078613281\n",
      "250254.845524\n",
      "Nor:428.94601821899414\n"
     ]
    }
   ],
   "source": [
    "a = np.random.rand(1000000)\n",
    "b = np.random.rand(1000000)\n",
    "\n",
    "tic = time.time()\n",
    "z = np.dot(a,b)\n",
    "\n",
    "toc = time.time()\n",
    "\n",
    "print(z)\n",
    "print(\"Vec:\" + str(1000*(toc-tic)))\n",
    "\n",
    "tic = time.time()\n",
    "\n",
    "z = 0\n",
    "for i in range(1000000):\n",
    "    z += a[i]*b[i]\n",
    "\n",
    "toc = time.time()    \n",
    "\n",
    "print(z)\n",
    "print(\"Nor:\" + str(1000*(toc-tic)))"
   ]
  },
  {
   "cell_type": "code",
   "execution_count": null,
   "metadata": {
    "collapsed": true
   },
   "outputs": [],
   "source": []
  }
 ],
 "metadata": {
  "kernelspec": {
   "display_name": "Python 3",
   "language": "python",
   "name": "python3"
  },
  "language_info": {
   "codemirror_mode": {
    "name": "ipython",
    "version": 3
   },
   "file_extension": ".py",
   "mimetype": "text/x-python",
   "name": "python",
   "nbconvert_exporter": "python",
   "pygments_lexer": "ipython3",
   "version": "3.5.2"
  }
 },
 "nbformat": 4,
 "nbformat_minor": 2
}
